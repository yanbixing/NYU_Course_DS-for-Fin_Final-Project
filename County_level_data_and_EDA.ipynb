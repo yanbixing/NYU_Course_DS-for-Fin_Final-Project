{
 "cells": [
  {
   "cell_type": "code",
   "execution_count": 27,
   "metadata": {
    "collapsed": true
   },
   "outputs": [],
   "source": [
    "import pandas as pd\n",
    "import glob\n",
    "import numpy as np\n",
    "import matplotlib.pyplot as plt\n",
    "from urllib.request import urlopen\n",
    "from sklearn import datasets, linear_model\n",
    "from scipy.optimize import curve_fit\n",
    "from sklearn.metrics import mean_squared_error, r2_score\n",
    "from sklearn import preprocessing\n",
    "import statsmodels.api as sm \n",
    "import os"
   ]
  },
  {
   "cell_type": "markdown",
   "metadata": {},
   "source": [
    "# County Level EDA"
   ]
  },
  {
   "cell_type": "markdown",
   "metadata": {},
   "source": [
    "## 1. Median ZHVI wrt. crime rate"
   ]
  },
  {
   "cell_type": "markdown",
   "metadata": {},
   "source": [
    "#### Results Summary:\n",
    "Crime rate could predict counties with low GDP per capita. It's not a good factor for counties with high GDP per capita."
   ]
  },
  {
   "cell_type": "markdown",
   "metadata": {},
   "source": [
    "### 1.1 Correlation: Median ZHVI  with crime rate -- counties with high GDP per capita"
   ]
  },
  {
   "cell_type": "markdown",
   "metadata": {},
   "source": [
    "Panel regression: choose year = 2014, choose state = CA, California"
   ]
  },
  {
   "cell_type": "code",
   "execution_count": 5,
   "metadata": {
    "collapsed": true
   },
   "outputs": [],
   "source": [
    "path = '/Users/liusulin/Desktop/Data Science/Project2/'"
   ]
  },
  {
   "cell_type": "code",
   "execution_count": 78,
   "metadata": {
    "collapsed": true
   },
   "outputs": [],
   "source": [
    "# read California county-level crime rate, and store the crime rate of county\n",
    "columns = [\"Agency\", \"Population\", \"Violent crime total\"]\n",
    "crime_CA_df = pd.read_csv(path + 'CACrimeOneYearofData.csv', usecols=columns, sep = \",\").dropna()\n",
    "CAcounty_crime_train = crime_CA_df.sort_values(by=[\"Population\"])[['Violent crime total']][:30]\n",
    "CAcounty_crime_test = crime_CA_df.sort_values(by=[\"Population\"])[['Violent crime total']][30:45]\n",
    "#normalize\n",
    "CAcounty_crime_train = preprocessing.scale(CAcounty_crime_train)\n",
    "CAcounty_crime_test = preprocessing.scale(CAcounty_crime_test)"
   ]
  },
  {
   "cell_type": "code",
   "execution_count": 79,
   "metadata": {
    "collapsed": true
   },
   "outputs": [],
   "source": [
    "median_df = pd.read_csv(path + 'County_MedianValuePerSqft_AllHomes.csv',encoding = \"ISO-8859-1\",index_col = None)\n",
    "median_df\n",
    "CAcounty_median = median_df.loc[median_df['State'] == 'CA'].sort_values(by = ['SizeRank'])[['2014-12']]\n",
    "CAcounty_median_train = CAcounty_median[:30]\n",
    "CAcounty_median_test = CAcounty_median[30:45]\n",
    "#normalize\n",
    "CAcounty_median_train = preprocessing.scale(CAcounty_median_train)\n",
    "CAcounty_median_test = preprocessing.scale(CAcounty_median_test)"
   ]
  },
  {
   "cell_type": "code",
   "execution_count": 83,
   "metadata": {},
   "outputs": [
    {
     "name": "stdout",
     "output_type": "stream",
     "text": [
      "Coefficients: \n",
      " [[ 0.02292069]]\n",
      "Mean squared error: 1.02\n",
      "Variance score: -0.02\n"
     ]
    }
   ],
   "source": [
    "regr = linear_model.LinearRegression()\n",
    "\n",
    "## Train the model using the training sets\n",
    "regr.fit(CAcounty_crime_train, CAcounty_median_train)\n",
    "\n",
    "# # Make predictions using the testing set\n",
    "CAcounty_median_pred = regr.predict(CAcounty_crime_test)\n",
    "\n",
    "# The coefficients\n",
    "print('Coefficients: \\n', regr.coef_)\n",
    "# The mean squared error\n",
    "print(\"Mean squared error: %.2f\"\n",
    "      % mean_squared_error(CAcounty_median_test, CAcounty_median_pred))\n",
    "# Explained variance score: 1 is perfect prediction\n",
    "print('Variance score: %.2f' % r2_score(CAcounty_median_test, CAcounty_median_pred))\n"
   ]
  },
  {
   "cell_type": "code",
   "execution_count": 86,
   "metadata": {},
   "outputs": [
    {
     "data": {
      "text/html": [
       "<table class=\"simpletable\">\n",
       "<caption>OLS Regression Results</caption>\n",
       "<tr>\n",
       "  <th>Dep. Variable:</th>            <td>y</td>        <th>  R-squared:         </th> <td>   0.001</td>\n",
       "</tr>\n",
       "<tr>\n",
       "  <th>Model:</th>                   <td>OLS</td>       <th>  Adj. R-squared:    </th> <td>  -0.035</td>\n",
       "</tr>\n",
       "<tr>\n",
       "  <th>Method:</th>             <td>Least Squares</td>  <th>  F-statistic:       </th> <td> 0.01472</td>\n",
       "</tr>\n",
       "<tr>\n",
       "  <th>Date:</th>             <td>Fri, 30 Nov 2018</td> <th>  Prob (F-statistic):</th>  <td> 0.904</td> \n",
       "</tr>\n",
       "<tr>\n",
       "  <th>Time:</th>                 <td>21:26:17</td>     <th>  Log-Likelihood:    </th> <td> -42.560</td>\n",
       "</tr>\n",
       "<tr>\n",
       "  <th>No. Observations:</th>      <td>    30</td>      <th>  AIC:               </th> <td>   89.12</td>\n",
       "</tr>\n",
       "<tr>\n",
       "  <th>Df Residuals:</th>          <td>    28</td>      <th>  BIC:               </th> <td>   91.92</td>\n",
       "</tr>\n",
       "<tr>\n",
       "  <th>Df Model:</th>              <td>     1</td>      <th>                     </th>     <td> </td>   \n",
       "</tr>\n",
       "<tr>\n",
       "  <th>Covariance Type:</th>      <td>nonrobust</td>    <th>                     </th>     <td> </td>   \n",
       "</tr>\n",
       "</table>\n",
       "<table class=\"simpletable\">\n",
       "<tr>\n",
       "    <td></td>       <th>coef</th>     <th>std err</th>      <th>t</th>      <th>P>|t|</th>  <th>[0.025</th>    <th>0.975]</th>  \n",
       "</tr>\n",
       "<tr>\n",
       "  <th>const</th> <td> 1.696e-16</td> <td>    0.189</td> <td> 8.98e-16</td> <td> 1.000</td> <td>   -0.387</td> <td>    0.387</td>\n",
       "</tr>\n",
       "<tr>\n",
       "  <th>x1</th>    <td>    0.0229</td> <td>    0.189</td> <td>    0.121</td> <td> 0.904</td> <td>   -0.364</td> <td>    0.410</td>\n",
       "</tr>\n",
       "</table>\n",
       "<table class=\"simpletable\">\n",
       "<tr>\n",
       "  <th>Omnibus:</th>       <td>14.571</td> <th>  Durbin-Watson:     </th> <td>   1.688</td>\n",
       "</tr>\n",
       "<tr>\n",
       "  <th>Prob(Omnibus):</th> <td> 0.001</td> <th>  Jarque-Bera (JB):  </th> <td>  14.932</td>\n",
       "</tr>\n",
       "<tr>\n",
       "  <th>Skew:</th>          <td> 1.445</td> <th>  Prob(JB):          </th> <td>0.000572</td>\n",
       "</tr>\n",
       "<tr>\n",
       "  <th>Kurtosis:</th>      <td> 4.896</td> <th>  Cond. No.          </th> <td>    1.00</td>\n",
       "</tr>\n",
       "</table>"
      ],
      "text/plain": [
       "<class 'statsmodels.iolib.summary.Summary'>\n",
       "\"\"\"\n",
       "                            OLS Regression Results                            \n",
       "==============================================================================\n",
       "Dep. Variable:                      y   R-squared:                       0.001\n",
       "Model:                            OLS   Adj. R-squared:                 -0.035\n",
       "Method:                 Least Squares   F-statistic:                   0.01472\n",
       "Date:                Fri, 30 Nov 2018   Prob (F-statistic):              0.904\n",
       "Time:                        21:26:17   Log-Likelihood:                -42.560\n",
       "No. Observations:                  30   AIC:                             89.12\n",
       "Df Residuals:                      28   BIC:                             91.92\n",
       "Df Model:                           1                                         \n",
       "Covariance Type:            nonrobust                                         \n",
       "==============================================================================\n",
       "                 coef    std err          t      P>|t|      [0.025      0.975]\n",
       "------------------------------------------------------------------------------\n",
       "const       1.696e-16      0.189   8.98e-16      1.000      -0.387       0.387\n",
       "x1             0.0229      0.189      0.121      0.904      -0.364       0.410\n",
       "==============================================================================\n",
       "Omnibus:                       14.571   Durbin-Watson:                   1.688\n",
       "Prob(Omnibus):                  0.001   Jarque-Bera (JB):               14.932\n",
       "Skew:                           1.445   Prob(JB):                     0.000572\n",
       "Kurtosis:                       4.896   Cond. No.                         1.00\n",
       "==============================================================================\n",
       "\n",
       "Warnings:\n",
       "[1] Standard Errors assume that the covariance matrix of the errors is correctly specified.\n",
       "\"\"\""
      ]
     },
     "execution_count": 86,
     "metadata": {},
     "output_type": "execute_result"
    }
   ],
   "source": [
    "CAcounty_crime_train_const = sm.add_constant(CAcounty_crime_train)\n",
    "models = sm.OLS(CAcounty_median_train, CAcounty_crime_train_const)\n",
    "result = models.fit()\n",
    "result.summary()"
   ]
  },
  {
   "cell_type": "markdown",
   "metadata": {},
   "source": [
    "#### Conclusion: For counties in high GDP state, the crime rate and house price is not significantly correlated\n",
    "Possible reasons:\n",
    "These areas are highly populated. When people choose their living areas, they may consider more on traffic, children's education, rather than crime rate."
   ]
  },
  {
   "cell_type": "markdown",
   "metadata": {},
   "source": [
    "### 1.2 Correlation: Median ZHVI  with crime rate -- counties with low GDP per capita"
   ]
  },
  {
   "cell_type": "markdown",
   "metadata": {},
   "source": [
    "Panel regression: choose year = 2014, choose state = AZ, Arizona"
   ]
  },
  {
   "cell_type": "code",
   "execution_count": 102,
   "metadata": {
    "collapsed": true
   },
   "outputs": [],
   "source": [
    "# read Arizona county-level crime rate, and store the crime rate of county\n",
    "columns = [\"Agency\", \"Population\", \"Violent crime total\"]\n",
    "crime_AZ_df = pd.read_csv(path + 'AZCrimeOneYearofData.csv', usecols=columns, sep = \",\").dropna()\n",
    "AZcounty_crime = crime_AZ_df[['Violent crime total']]\n",
    "#normalize\n",
    "AZcounty_crime = preprocessing.scale(AZcounty_crime_train)[:14]"
   ]
  },
  {
   "cell_type": "code",
   "execution_count": 100,
   "metadata": {
    "collapsed": true
   },
   "outputs": [],
   "source": [
    "AZcounty_median = median_df.loc[median_df['State'] == 'AZ'].sort_values(by = ['SizeRank'])[['2014-12']]\n",
    "AZcounty_median = AZcounty_median[:10]"
   ]
  },
  {
   "cell_type": "code",
   "execution_count": 101,
   "metadata": {},
   "outputs": [
    {
     "name": "stderr",
     "output_type": "stream",
     "text": [
      "/anaconda3/lib/python3.6/site-packages/scipy/stats/stats.py:1334: UserWarning: kurtosistest only valid for n>=20 ... continuing anyway, n=10\n",
      "  \"anyway, n=%i\" % int(n))\n"
     ]
    },
    {
     "data": {
      "text/html": [
       "<table class=\"simpletable\">\n",
       "<caption>OLS Regression Results</caption>\n",
       "<tr>\n",
       "  <th>Dep. Variable:</th>         <td>2014-12</td>     <th>  R-squared:         </th> <td>   0.075</td>\n",
       "</tr>\n",
       "<tr>\n",
       "  <th>Model:</th>                   <td>OLS</td>       <th>  Adj. R-squared:    </th> <td>  -0.041</td>\n",
       "</tr>\n",
       "<tr>\n",
       "  <th>Method:</th>             <td>Least Squares</td>  <th>  F-statistic:       </th> <td>  0.6444</td>\n",
       "</tr>\n",
       "<tr>\n",
       "  <th>Date:</th>             <td>Fri, 30 Nov 2018</td> <th>  Prob (F-statistic):</th>  <td> 0.445</td> \n",
       "</tr>\n",
       "<tr>\n",
       "  <th>Time:</th>                 <td>21:49:10</td>     <th>  Log-Likelihood:    </th> <td> -45.735</td>\n",
       "</tr>\n",
       "<tr>\n",
       "  <th>No. Observations:</th>      <td>    10</td>      <th>  AIC:               </th> <td>   95.47</td>\n",
       "</tr>\n",
       "<tr>\n",
       "  <th>Df Residuals:</th>          <td>     8</td>      <th>  BIC:               </th> <td>   96.07</td>\n",
       "</tr>\n",
       "<tr>\n",
       "  <th>Df Model:</th>              <td>     1</td>      <th>                     </th>     <td> </td>   \n",
       "</tr>\n",
       "<tr>\n",
       "  <th>Covariance Type:</th>      <td>nonrobust</td>    <th>                     </th>     <td> </td>   \n",
       "</tr>\n",
       "</table>\n",
       "<table class=\"simpletable\">\n",
       "<tr>\n",
       "    <td></td>       <th>coef</th>     <th>std err</th>      <th>t</th>      <th>P>|t|</th>  <th>[0.025</th>    <th>0.975]</th>  \n",
       "</tr>\n",
       "<tr>\n",
       "  <th>const</th> <td>  103.7000</td> <td>    8.288</td> <td>   12.512</td> <td> 0.000</td> <td>   84.588</td> <td>  122.812</td>\n",
       "</tr>\n",
       "<tr>\n",
       "  <th>x1</th>    <td>   -6.6531</td> <td>    8.288</td> <td>   -0.803</td> <td> 0.445</td> <td>  -25.766</td> <td>   12.459</td>\n",
       "</tr>\n",
       "</table>\n",
       "<table class=\"simpletable\">\n",
       "<tr>\n",
       "  <th>Omnibus:</th>       <td> 3.557</td> <th>  Durbin-Watson:     </th> <td>   2.569</td>\n",
       "</tr>\n",
       "<tr>\n",
       "  <th>Prob(Omnibus):</th> <td> 0.169</td> <th>  Jarque-Bera (JB):  </th> <td>   1.471</td>\n",
       "</tr>\n",
       "<tr>\n",
       "  <th>Skew:</th>          <td> 0.939</td> <th>  Prob(JB):          </th> <td>   0.479</td>\n",
       "</tr>\n",
       "<tr>\n",
       "  <th>Kurtosis:</th>      <td> 3.078</td> <th>  Cond. No.          </th> <td>    1.00</td>\n",
       "</tr>\n",
       "</table>"
      ],
      "text/plain": [
       "<class 'statsmodels.iolib.summary.Summary'>\n",
       "\"\"\"\n",
       "                            OLS Regression Results                            \n",
       "==============================================================================\n",
       "Dep. Variable:                2014-12   R-squared:                       0.075\n",
       "Model:                            OLS   Adj. R-squared:                 -0.041\n",
       "Method:                 Least Squares   F-statistic:                    0.6444\n",
       "Date:                Fri, 30 Nov 2018   Prob (F-statistic):              0.445\n",
       "Time:                        21:49:10   Log-Likelihood:                -45.735\n",
       "No. Observations:                  10   AIC:                             95.47\n",
       "Df Residuals:                       8   BIC:                             96.07\n",
       "Df Model:                           1                                         \n",
       "Covariance Type:            nonrobust                                         \n",
       "==============================================================================\n",
       "                 coef    std err          t      P>|t|      [0.025      0.975]\n",
       "------------------------------------------------------------------------------\n",
       "const        103.7000      8.288     12.512      0.000      84.588     122.812\n",
       "x1            -6.6531      8.288     -0.803      0.445     -25.766      12.459\n",
       "==============================================================================\n",
       "Omnibus:                        3.557   Durbin-Watson:                   2.569\n",
       "Prob(Omnibus):                  0.169   Jarque-Bera (JB):                1.471\n",
       "Skew:                           0.939   Prob(JB):                        0.479\n",
       "Kurtosis:                       3.078   Cond. No.                         1.00\n",
       "==============================================================================\n",
       "\n",
       "Warnings:\n",
       "[1] Standard Errors assume that the covariance matrix of the errors is correctly specified.\n",
       "\"\"\""
      ]
     },
     "execution_count": 101,
     "metadata": {},
     "output_type": "execute_result"
    }
   ],
   "source": [
    "AZcounty_crime_train_const = sm.add_constant(AZcounty_crime_train)\n",
    "models = sm.OLS(AZcounty_median, AZcounty_crime_train_const)\n",
    "result = models.fit()\n",
    "result.summary()"
   ]
  },
  {
   "cell_type": "markdown",
   "metadata": {},
   "source": [
    "#### Conclusion: For counties in low GDP state, the crime rate and house price is significantly negatively correlated\n",
    "Possible reasons:\n"
   ]
  }
 ],
 "metadata": {
  "kernelspec": {
   "display_name": "Python 3",
   "language": "python",
   "name": "python3"
  },
  "language_info": {
   "codemirror_mode": {
    "name": "ipython",
    "version": 3
   },
   "file_extension": ".py",
   "mimetype": "text/x-python",
   "name": "python",
   "nbconvert_exporter": "python",
   "pygments_lexer": "ipython3",
   "version": "3.6.3"
  }
 },
 "nbformat": 4,
 "nbformat_minor": 2
}
